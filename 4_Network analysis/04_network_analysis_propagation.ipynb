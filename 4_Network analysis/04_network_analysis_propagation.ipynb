{
 "cells": [
  {
   "cell_type": "markdown",
   "id": "92c1e0fc-294d-418a-837d-dd4c1be5fbe2",
   "metadata": {},
   "source": [
    "https://networkx.org/documentation/stable/reference/algorithms/generated/networkx.algorithms.components.connected_components.html"
   ]
  },
  {
   "cell_type": "code",
   "execution_count": null,
   "id": "20762c1a-4ab3-484e-96f1-15b720145555",
   "metadata": {},
   "outputs": [],
   "source": [
    "import pandas as pd\n",
    "import numpy as np\n",
    "import networkx as nx\n",
    "import matplotlib.pyplot as plt\n",
    "import py4cytoscape as p4c\n",
    "import os"
   ]
  },
  {
   "cell_type": "code",
   "execution_count": null,
   "id": "7e113cb3-d889-4ed7-bd22-b42ff520ccb0",
   "metadata": {},
   "outputs": [],
   "source": [
    "# --- Load data files ---\n",
    "entity_weight_df = pd.read_csv('entity_weight.csv', dtype={'Phecode': str})\n",
    "entity_df = pd.read_csv('processed_entities.csv')\n",
    "relation_df = pd.read_csv('processed_relationships.csv')"
   ]
  },
  {
   "cell_type": "code",
   "execution_count": null,
   "id": "3409195a-4901-4e57-b52d-8667d126dd66",
   "metadata": {},
   "outputs": [],
   "source": [
    "# Initialize an undirected graph\n",
    "G = nx.Graph()\n",
    "# Add nodes\n",
    "for _, row in entity_df.iterrows():\n",
    "    G.add_node(row['node_id'])\n",
    "# Add edges\n",
    "for _, row in relation_df.iterrows():\n",
    "    G.add_edge(row['source'], row['edge'])"
   ]
  },
  {
   "cell_type": "code",
   "execution_count": null,
   "id": "15d5b454-16fe-4eeb-b330-d40e68648aad",
   "metadata": {},
   "outputs": [],
   "source": [
    "# Find largest connected component\n",
    "largest_cc = max(nx.connected_components(G), key=len)\n",
    "largest_cc_subgraph = G.subgraph(largest_cc).copy()\n",
    "\n",
    "# Extract edges from largest connected component\n",
    "edges = list(largest_cc_subgraph.edges())\n",
    "edges_df = pd.DataFrame(edges, columns=['from', 'to'])\n",
    "print(f\"Largest connected component edges: {edges_df.shape}\")"
   ]
  },
  {
   "cell_type": "code",
   "execution_count": null,
   "id": "9fe88d34-9478-4eec-9f0f-37c97ba00898",
   "metadata": {},
   "outputs": [],
   "source": [
    "# Filter relationships to include only nodes in entity set\n",
    "entity_node = set(entity_df['node_id'])\n",
    "filtered_relationships = edges_df[(edges_df['from'].isin(entity_node)) & (edges_df['to'].isin(entity_node))]\n",
    "print(f\"Filtered relationships: {filtered_relationships.shape[0]}\")\n",
    "print(f\"Original edges: {edges_df.shape[0]}\")"
   ]
  },
  {
   "cell_type": "code",
   "execution_count": null,
   "id": "41d5f7fe-4883-41df-bb5d-439856869a96",
   "metadata": {},
   "outputs": [],
   "source": [
    "filtered_relationships.to_csv('processed_lcc.csv', index=False)"
   ]
  },
  {
   "cell_type": "code",
   "execution_count": null,
   "id": "776e6c88-263a-4772-95d2-68ea9597f84c",
   "metadata": {},
   "outputs": [],
   "source": [
    "print(f\"Entities with beta values: {len(entity_df[~entity_df['Beta'].isna()])}\")\n",
    "\n",
    "# --- Add HS-gene relationships based on current knowledge ---\n",
    "# Related gene to Hidradenitis (DOID:2280, DOID:2282):\n",
    "# * HGNC:45689 (RNU7-155P)\n",
    "# * HGNC:51646 (MYL6P5) \n",
    "# * HGNC:42721 (LINC00393)\n",
    "# * HGNC:23151 (FERMT3)\n",
    "\n",
    "# Gene list are HS related based on this web: https://www.ebi.ac.uk/gwas/publications/37494057\n",
    "gene_list = ['HGNC:45689', 'HGNC:51646', 'HGNC:42721', 'HGNC:23151']\n",
    "print(entity_df[entity_df['node_id'].isin(gene_list))\n",
    "\n",
    "# Add new relationship\n",
    "add_relationship = {\n",
    "    'from': ['DOID:2280', 'DOID:2280', 'DOID:2280', 'DOID:2280', 'DOID:2282', 'DOID:2282', 'DOID:2282', 'DOID:2282'],\n",
    "    'to': ['HGNC:45689', 'HGNC:51646', 'HGNC:42721', 'HGNC:23151', 'HGNC:45689', 'HGNC:51646', 'HGNC:42721', 'HGNC:23151']\n",
    "}\n",
    "add_relationship_df = pd.DataFrame(add_relationship)\n",
    "lcc_update_df = pd.concat([lcc_df, add_relationship_df], ignore_index=True)"
   ]
  },
  {
   "cell_type": "code",
   "execution_count": null,
   "id": "3a636d66-63ac-4485-8287-8682e3fbb4dc",
   "metadata": {},
   "outputs": [],
   "source": [
    "# --- Find HS related nodes in knowledge pool ---\n",
    "# Extract related nodes directly from the relationship data\n",
    "related_nodes = relation_all_df[(relation_all_df['source'] == 'DOID:2280') | (relation_all_df['source'] == 'DOID:2282')]['edge']\n",
    "print(f\"Found {len(related_nodes)} HS-related nodes from relationship data\")\n",
    "\n",
    "# --- Find HS related nodes in largest connected component ---\n",
    "# Check which HS-related nodes are connected to DOID:2280 in the LCC\n",
    "hs_lcc_connections = lcc_df[(lcc_df['to'].isin(related_nodes)) & (lcc_df['from'] == 'DOID:2280')]\n",
    "print(f\"Found {len(hs_lcc_connections)} HS-related connections in LCC\")\n",
    "\n",
    "# --- Create graph ---\n",
    "beta_df = entity_df[~entity_df['Beta'].isna()]\n",
    "beta_list = beta_df.set_index('node_id')['Beta'].to_dict()\n",
    "print(f\"Beta list length: {len(beta_list)}\")"
   ]
  },
  {
   "cell_type": "code",
   "execution_count": null,
   "id": "6964678e-c0ed-4269-96b8-74867667a100",
   "metadata": {},
   "outputs": [],
   "source": [
    "G = nx.Graph()\n",
    "\n",
    "# Add nodes and edges\n",
    "for _, row in entity_df.iterrows():\n",
    "    G.add_node(row['node_id'], node_type=row['category'], weight=row['Beta'])\n",
    "\n",
    "for _, row in lcc_df.iterrows():\n",
    "    G.add_edge(row['from'], row['to'])\n",
    "\n",
    "# Create adjacency matrix\n",
    "W = nx.adjacency_matrix(G)\n",
    "W = np.transpose(np.nan_to_num(W/np.sum(W, axis=0)))"
   ]
  },
  {
   "cell_type": "code",
   "execution_count": null,
   "id": "4814a3a7-857a-4880-9e95-4b5e3ab6f9bf",
   "metadata": {},
   "outputs": [],
   "source": [
    "# --- Network propagation ---\n",
    "# Initialize node values\n",
    "y_initial = np.zeros(len(G.nodes))\n",
    "node_list = list(G.nodes)\n",
    "for node in node_list:\n",
    "    if node in beta_list:\n",
    "        y_initial[node_list.index(node)] = beta_list[node]\n",
    "\n",
    "# Propagation parameters\n",
    "alpha = 0.85\n",
    "max_iter = 40\n",
    "tol = 1e-6\n",
    "y = y_initial.copy()\n",
    "\n",
    "# Iterative propagation\n",
    "for i in range(max_iter):\n",
    "    y_new = alpha * W.dot(y) + (1 - alpha) * y_initial\n",
    "    if np.linalg.norm(y_new - y) < tol:\n",
    "        print(f\"Converged after {i+1} iterations\")\n",
    "        break\n",
    "    y = y_new\n",
    "\n",
    "# Final propagated values\n",
    "y_propagated = y\n",
    "\n",
    "# Adding propagated values back to nodes\n",
    "for i, node in enumerate(node_list):\n",
    "    G.nodes[node]['value'] = y_propagated[i]"
   ]
  },
  {
   "cell_type": "code",
   "execution_count": null,
   "id": "d0e19c4f-bc6c-4149-ad7b-5e9600660014",
   "metadata": {},
   "outputs": [],
   "source": [
    "# --- GPSnet result processing ---\n",
    "path = '/GPSnet_result/yesSmooth'\n",
    "files = [\n",
    "    'run1004_0.001.txt', \n",
    "    'run1004_0.005.txt'\n",
    "]\n",
    "\n",
    "file_names = []\n",
    "for file in files:\n",
    "    df_name = file.replace('run1004_', 'df_yes_').replace('.txt', '').replace('0.', '0_')\n",
    "    file_path = os.path.join(path, file)\n",
    "    globals()[df_name] = pd.read_csv(file_path, delimiter=\"\\t\")\n",
    "    print(f\"Loaded {file} into {df_name}\")\n",
    "    file_names.append(df_name)\n",
    "\n",
    "for i in file_names:\n",
    "    df = globals()[i]\n",
    "    print(i, df.shape)\n",
    "\n",
    "# Add HS node to network\n",
    "HS_node = [{'gene': 'DOID:2280'}, {'gene': 'DOID:2282'}]\n",
    "for file_name in file_names:\n",
    "    df = globals()[file_name]\n",
    "    globals()[file_name] = df._append(HS_node, ignore_index=True)\n",
    "\n",
    "file_names = ['df_yes_0_001']\n",
    "\n",
    "# --- Connect to Cytoscape ---\n",
    "p4c.cytoscape_ping()\n",
    "\n",
    "for file_name in file_names:\n",
    "    df = globals()[file_name]\n",
    "    gene_column = df['gene']\n",
    "    subgraph = G.subgraph(gene_column)\n",
    "    \n",
    "    # Create a file name for the GraphML file\n",
    "    graphml_filename = f\"{file_name}_0411_all_cohort_no_update_llm.graphml\"\n",
    "    \n",
    "    # Write the graph to a GraphML file\n",
    "    nx.write_graphml(subgraph, graphml_filename)\n",
    "    \n",
    "    print(f\"Processed {file_name} and saved as {graphml_filename} into Cytoscape.\")"
   ]
  }
 ],
 "metadata": {
  "kernelspec": {
   "display_name": "Python 3 (ipykernel)",
   "language": "python",
   "name": "python3"
  },
  "language_info": {
   "codemirror_mode": {
    "name": "ipython",
    "version": 3
   },
   "file_extension": ".py",
   "mimetype": "text/x-python",
   "name": "python",
   "nbconvert_exporter": "python",
   "pygments_lexer": "ipython3",
   "version": "3.12.4"
  }
 },
 "nbformat": 4,
 "nbformat_minor": 5
}
