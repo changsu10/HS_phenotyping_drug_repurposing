{
 "cells": [
  {
   "cell_type": "code",
   "execution_count": 1,
   "id": "b5c8d1f4-80b9-46d3-acca-281c80ea9d7d",
   "metadata": {},
   "outputs": [],
   "source": [
    "import pandas as pd"
   ]
  },
  {
   "cell_type": "code",
   "execution_count": 6,
   "id": "63cc052d-391e-4ce5-9bfa-a5633f723884",
   "metadata": {},
   "outputs": [],
   "source": [
    "path = '/relation/'\n",
    "dis_dis = pd.read_csv(path+'Di_Di_res.csv')\n",
    "dis_gene = pd.read_csv(path+'Di_G_res.csv')\n",
    "dis_sys = pd.read_csv(path+'Di_Sy_res.csv')\n",
    "gene_gene = pd.read_csv(path+'Gene_Gene.csv')"
   ]
  },
  {
   "cell_type": "code",
   "execution_count": 1,
   "id": "51ffac76-7825-44b3-b397-8b2c0fb9c9d8",
   "metadata": {},
   "outputs": [],
   "source": [
    "# Load all relationship data\n",
    "dis_dis = pd.read_csv(\"/Users/weitingwang/Desktop/@Research/Network Analysis/relation/Di_Di_res.csv\")\n",
    "dis_gene = pd.read_csv(\"/Users/weitingwang/Desktop/@Research/Network Analysis/relation/Di_G_res.csv\")\n",
    "dis_sys = pd.read_csv(\"/Users/weitingwang/Desktop/@Research/Network Analysis/relation/Di_Sy_res.csv\")\n",
    "gene_gene = pd.read_csv(\"/Users/weitingwang/Desktop/@Research/Network Analysis/relation/Gene_Gene.csv\")\n",
    "\n",
    "print(\"Original shapes:\")\n",
    "print(f\"dis_dis: {dis_dis.shape}\")\n",
    "print(f\"dis_gene: {dis_gene.shape}\")\n",
    "print(f\"dis_sys: {dis_sys.shape}\")\n",
    "print(f\"gene_gene: {gene_gene.shape}\")\n",
    "\n",
    "\n",
    "# --- Remove Inferred relationship ---\n",
    "\n",
    "# Remove Inferred_Relation from gene_gene\n",
    "if 'Inferred_Relation' in gene_gene.columns:\n",
    "    gene_gene = gene_gene.drop(columns=['Inferred_Relation'])\n",
    "    print(\"Removed Inferred_Relation from gene-gene\")\n",
    "\n",
    "# Remove Inferred_Relation from dis_gene\n",
    "if 'Inferred_Relation' in dis_gene.columns:\n",
    "    dis_gene = dis_gene.drop(columns=['Inferred_Relation'])\n",
    "    print(\"Removed Inferred_Relation from disease-gene\")\n",
    "\n",
    "print(f\"Final shapes - Gene-gene: {gene_gene.shape}, Disease-gene: {dis_gene.shape}\")"
   ]
  },
  {
   "cell_type": "code",
   "execution_count": null,
   "id": "cc6c7f64-bdd0-4ae0-b4a1-d0d7987f64c4",
   "metadata": {},
   "outputs": [],
   "source": [
    "# Convert to uppercase\n",
    "dis_dis['Disease_1'] = dis_dis['Disease_1'].str.upper()\n",
    "dis_dis['Disease_2'] = dis_dis['Disease_2'].str.upper()\n",
    "dis_gene['Disease'] = dis_gene['Disease'].str.upper()\n",
    "dis_gene['Gene'] = dis_gene['Gene'].str.upper()\n",
    "dis_sys['Disease'] = dis_sys['Disease'].str.upper()\n",
    "dis_sys['Symptom'] = dis_sys['Symptom'].str.upper()\n",
    "gene_gene['Gene_1'] = gene_gene['Gene_1'].str.upper()\n",
    "gene_gene['Gene_2'] = gene_gene['Gene_2'].str.upper()\n",
    "\n",
    "# Standardize column names\n",
    "dis_dis_1 = dis_dis[['Disease_1','Disease_2']].rename(columns={'Disease_1':'source','Disease_2':'edge'})\n",
    "dis_sys_1 = dis_sys[['Disease','Symptom']].rename(columns={'Disease':'source','Symptom':'edge'})\n",
    "dis_gene_1 = dis_gene[['Disease','Gene']].rename(columns={'Disease':'source','Gene':'edge'})\n",
    "gene_gene_1 = gene_gene[['Gene_1','Gene_2']].rename(columns={'Gene_1':'source','Gene_2':'edge'})\n",
    "\n",
    "# Combine all relationships\n",
    "relation_df = pd.concat([dis_dis_1, dis_gene_1, dis_sys_1, gene_gene_1])\n",
    "\n",
    "print(f\"\\nCombined relationships: {relation_df.shape}\")\n",
    "print(relation_df.head())\n",
    "\n",
    "# Save standardized data\n",
    "relation_df.to_csv(\"processed_relationships.csv\", index=False)\n",
    "print(\"\\nSaved as: processed_relationships.csv\")"
   ]
  },
  {
   "cell_type": "code",
   "execution_count": null,
   "id": "027bd04d-555c-4d19-8ef7-2db7dcdbb4ec",
   "metadata": {},
   "outputs": [],
   "source": [
    "# Load entity vocabulary data\n",
    "path = '/entity/'\n",
    "dis_df = pd.read_csv(path+'disease_vocab.csv')\n",
    "gene_df = pd.read_csv(path+'gene_vocab.csv')\n",
    "sym_df = pd.read_csv(path+'symptom_vocab.csv')\n",
    "\n",
    "print(\"Original shapes:\")\n",
    "print(f\"disease: {dis_df.shape}\")\n",
    "print(f\"gene: {gene_df.shape}\")\n",
    "print(f\"symptom: {sym_df.shape}\")"
   ]
  },
  {
   "cell_type": "code",
   "execution_count": null,
   "id": "6df66f63-f3ed-4833-993c-e15482af8518",
   "metadata": {},
   "outputs": [],
   "source": [
    "# Convert to uppercase\n",
    "dis_df['primary'] = dis_df['primary'].str.upper()\n",
    "gene_df['primary'] = gene_df['primary'].str.upper()\n",
    "sym_df['primary'] = sym_df['primary'].str.upper()\n",
    "\n",
    "# Check entity types\n",
    "print('\\nEntity types:')\n",
    "print('disease:', dis_df['primary'].str.split(':').str[0].value_counts())\n",
    "print('gene:', gene_df['primary'].str.split(':').str[0].value_counts())\n",
    "print('symptom:', sym_df['primary'].str.split(':').str[0].value_counts())"
   ]
  },
  {
   "cell_type": "code",
   "execution_count": null,
   "id": "c7f69aeb-00cb-4c56-a04a-1836725b9182",
   "metadata": {},
   "outputs": [],
   "source": [
    "# Combine disease and symptom for duplicate checking\n",
    "dis_all = pd.concat([dis_df, sym_df])\n",
    "duplicates = dis_all[dis_all['primary'].duplicated()]\n",
    "\n",
    "print(f\"\\nDuplicates found: {len(duplicates)}\")\n",
    "\n",
    "# Remove duplicates and process each entity type\n",
    "dis_df_remove_dup = dis_df[~dis_df['primary'].isin(duplicates['primary'])]\n",
    "sym_df_remove_umls = sym_df[~sym_df['primary'].str.contains('UMLS')]  # no umls code in dis-sys\n",
    "gene_df_drop_dup = gene_df.drop_duplicates(subset=['primary']).rename(columns={'symbol': 'name'})\n",
    "\n",
    "# Create standardized entity datasets\n",
    "dis_df_1 = dis_df_remove_dup.assign(category='disease')[['primary','name','category']]\n",
    "gene_df_1 = gene_df_drop_dup.assign(category='gene')[['primary','name','category']]\n",
    "sym_df_1 = sym_df_remove_umls.assign(category='symptom')[['primary','name','category']]\n",
    "\n",
    "# Combine all entities\n",
    "entity_df = pd.concat([dis_df_1, gene_df_1, sym_df_1]).rename(columns={'primary':'node_id'})\n",
    "\n",
    "print(f\"\\nFinal entity dataset: {entity_df.shape}\")\n",
    "print(f\"Categories: {entity_df['category'].value_counts().to_dict()}\")\n",
    "\n",
    "# Save processed entity data\n",
    "entity_df.to_csv(\"processed_entities.csv\", index=False)\n",
    "print(\"\\nSaved as: processed_entities.csv\")"
   ]
  }
 ],
 "metadata": {
  "kernelspec": {
   "display_name": "Python 3 (ipykernel)",
   "language": "python",
   "name": "python3"
  },
  "language_info": {
   "codemirror_mode": {
    "name": "ipython",
    "version": 3
   },
   "file_extension": ".py",
   "mimetype": "text/x-python",
   "name": "python",
   "nbconvert_exporter": "python",
   "pygments_lexer": "ipython3",
   "version": "3.12.4"
  }
 },
 "nbformat": 4,
 "nbformat_minor": 5
}
